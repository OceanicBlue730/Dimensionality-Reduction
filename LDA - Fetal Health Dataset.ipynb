{
 "cells": [
  {
   "cell_type": "code",
   "execution_count": 1,
   "id": "630913b5",
   "metadata": {},
   "outputs": [],
   "source": [
    "#importing necessary libraries\n",
    "import pandas as pd\n",
    "\n",
    "from sklearn.model_selection import train_test_split\n",
    "from sklearn.naive_bayes import GaussianNB\n",
    "from sklearn.neighbors import KNeighborsClassifier\n",
    "\n",
    "from sklearn.discriminant_analysis import LinearDiscriminantAnalysis\n",
    "\n",
    "from sklearn import metrics\n",
    "import seaborn as sns"
   ]
  },
  {
   "cell_type": "code",
   "execution_count": 2,
   "id": "bc1a99f0",
   "metadata": {},
   "outputs": [],
   "source": [
    "#loading the dataset into variable 'data'\n",
    "data=pd.read_csv('fetal_health.csv')"
   ]
  },
  {
   "cell_type": "markdown",
   "id": "948a8824",
   "metadata": {},
   "source": [
    "### Inspecting and preprocessing the data"
   ]
  },
  {
   "cell_type": "code",
   "execution_count": 3,
   "id": "a562c242",
   "metadata": {
    "scrolled": true
   },
   "outputs": [
    {
     "data": {
      "text/html": [
       "<div>\n",
       "<style scoped>\n",
       "    .dataframe tbody tr th:only-of-type {\n",
       "        vertical-align: middle;\n",
       "    }\n",
       "\n",
       "    .dataframe tbody tr th {\n",
       "        vertical-align: top;\n",
       "    }\n",
       "\n",
       "    .dataframe thead th {\n",
       "        text-align: right;\n",
       "    }\n",
       "</style>\n",
       "<table border=\"1\" class=\"dataframe\">\n",
       "  <thead>\n",
       "    <tr style=\"text-align: right;\">\n",
       "      <th></th>\n",
       "      <th>fhr_baseline value</th>\n",
       "      <th>accelerations</th>\n",
       "      <th>fetal_movement</th>\n",
       "      <th>uterine_contractions</th>\n",
       "      <th>light_decelerations</th>\n",
       "      <th>severe_decelerations</th>\n",
       "      <th>prolongued_decelerations</th>\n",
       "      <th>abnormal_short_term_variability</th>\n",
       "      <th>mean_value_of_short_term_variability</th>\n",
       "      <th>percentage_of_time_with_abnormal_long_term_variability</th>\n",
       "      <th>...</th>\n",
       "      <th>fhr_histogram_min</th>\n",
       "      <th>fhr_histogram_max</th>\n",
       "      <th>fhr_histogram_number_of_peaks</th>\n",
       "      <th>fhr_histogram_number_of_zeroes</th>\n",
       "      <th>fhr_histogram_mode</th>\n",
       "      <th>fhr_histogram_mean</th>\n",
       "      <th>fhr_histogram_median</th>\n",
       "      <th>fhr_histogram_variance</th>\n",
       "      <th>fhr_histogram_tendency</th>\n",
       "      <th>fetal_health</th>\n",
       "    </tr>\n",
       "  </thead>\n",
       "  <tbody>\n",
       "    <tr>\n",
       "      <th>0</th>\n",
       "      <td>120</td>\n",
       "      <td>0.000</td>\n",
       "      <td>0.0</td>\n",
       "      <td>0.000</td>\n",
       "      <td>0.000</td>\n",
       "      <td>0.0</td>\n",
       "      <td>0.0</td>\n",
       "      <td>73</td>\n",
       "      <td>0.5</td>\n",
       "      <td>43</td>\n",
       "      <td>...</td>\n",
       "      <td>62</td>\n",
       "      <td>126</td>\n",
       "      <td>2</td>\n",
       "      <td>0</td>\n",
       "      <td>120</td>\n",
       "      <td>137</td>\n",
       "      <td>121</td>\n",
       "      <td>73</td>\n",
       "      <td>1</td>\n",
       "      <td>2</td>\n",
       "    </tr>\n",
       "    <tr>\n",
       "      <th>1</th>\n",
       "      <td>132</td>\n",
       "      <td>0.006</td>\n",
       "      <td>0.0</td>\n",
       "      <td>0.006</td>\n",
       "      <td>0.003</td>\n",
       "      <td>0.0</td>\n",
       "      <td>0.0</td>\n",
       "      <td>17</td>\n",
       "      <td>2.1</td>\n",
       "      <td>0</td>\n",
       "      <td>...</td>\n",
       "      <td>68</td>\n",
       "      <td>198</td>\n",
       "      <td>6</td>\n",
       "      <td>1</td>\n",
       "      <td>141</td>\n",
       "      <td>136</td>\n",
       "      <td>140</td>\n",
       "      <td>12</td>\n",
       "      <td>0</td>\n",
       "      <td>1</td>\n",
       "    </tr>\n",
       "    <tr>\n",
       "      <th>2</th>\n",
       "      <td>133</td>\n",
       "      <td>0.003</td>\n",
       "      <td>0.0</td>\n",
       "      <td>0.008</td>\n",
       "      <td>0.003</td>\n",
       "      <td>0.0</td>\n",
       "      <td>0.0</td>\n",
       "      <td>16</td>\n",
       "      <td>2.1</td>\n",
       "      <td>0</td>\n",
       "      <td>...</td>\n",
       "      <td>68</td>\n",
       "      <td>198</td>\n",
       "      <td>5</td>\n",
       "      <td>1</td>\n",
       "      <td>141</td>\n",
       "      <td>135</td>\n",
       "      <td>138</td>\n",
       "      <td>13</td>\n",
       "      <td>0</td>\n",
       "      <td>1</td>\n",
       "    </tr>\n",
       "    <tr>\n",
       "      <th>3</th>\n",
       "      <td>134</td>\n",
       "      <td>0.003</td>\n",
       "      <td>0.0</td>\n",
       "      <td>0.008</td>\n",
       "      <td>0.003</td>\n",
       "      <td>0.0</td>\n",
       "      <td>0.0</td>\n",
       "      <td>16</td>\n",
       "      <td>2.4</td>\n",
       "      <td>0</td>\n",
       "      <td>...</td>\n",
       "      <td>53</td>\n",
       "      <td>170</td>\n",
       "      <td>11</td>\n",
       "      <td>0</td>\n",
       "      <td>137</td>\n",
       "      <td>134</td>\n",
       "      <td>137</td>\n",
       "      <td>13</td>\n",
       "      <td>1</td>\n",
       "      <td>1</td>\n",
       "    </tr>\n",
       "    <tr>\n",
       "      <th>4</th>\n",
       "      <td>132</td>\n",
       "      <td>0.007</td>\n",
       "      <td>0.0</td>\n",
       "      <td>0.008</td>\n",
       "      <td>0.000</td>\n",
       "      <td>0.0</td>\n",
       "      <td>0.0</td>\n",
       "      <td>16</td>\n",
       "      <td>2.4</td>\n",
       "      <td>0</td>\n",
       "      <td>...</td>\n",
       "      <td>53</td>\n",
       "      <td>170</td>\n",
       "      <td>9</td>\n",
       "      <td>0</td>\n",
       "      <td>137</td>\n",
       "      <td>136</td>\n",
       "      <td>138</td>\n",
       "      <td>11</td>\n",
       "      <td>1</td>\n",
       "      <td>1</td>\n",
       "    </tr>\n",
       "  </tbody>\n",
       "</table>\n",
       "<p>5 rows × 22 columns</p>\n",
       "</div>"
      ],
      "text/plain": [
       "   fhr_baseline value  accelerations  fetal_movement  uterine_contractions  \\\n",
       "0                 120          0.000             0.0                 0.000   \n",
       "1                 132          0.006             0.0                 0.006   \n",
       "2                 133          0.003             0.0                 0.008   \n",
       "3                 134          0.003             0.0                 0.008   \n",
       "4                 132          0.007             0.0                 0.008   \n",
       "\n",
       "   light_decelerations  severe_decelerations  prolongued_decelerations  \\\n",
       "0                0.000                   0.0                       0.0   \n",
       "1                0.003                   0.0                       0.0   \n",
       "2                0.003                   0.0                       0.0   \n",
       "3                0.003                   0.0                       0.0   \n",
       "4                0.000                   0.0                       0.0   \n",
       "\n",
       "   abnormal_short_term_variability  mean_value_of_short_term_variability  \\\n",
       "0                               73                                   0.5   \n",
       "1                               17                                   2.1   \n",
       "2                               16                                   2.1   \n",
       "3                               16                                   2.4   \n",
       "4                               16                                   2.4   \n",
       "\n",
       "   percentage_of_time_with_abnormal_long_term_variability  ...  \\\n",
       "0                                                 43       ...   \n",
       "1                                                  0       ...   \n",
       "2                                                  0       ...   \n",
       "3                                                  0       ...   \n",
       "4                                                  0       ...   \n",
       "\n",
       "   fhr_histogram_min  fhr_histogram_max  fhr_histogram_number_of_peaks  \\\n",
       "0                 62                126                              2   \n",
       "1                 68                198                              6   \n",
       "2                 68                198                              5   \n",
       "3                 53                170                             11   \n",
       "4                 53                170                              9   \n",
       "\n",
       "   fhr_histogram_number_of_zeroes  fhr_histogram_mode  fhr_histogram_mean  \\\n",
       "0                               0                 120                 137   \n",
       "1                               1                 141                 136   \n",
       "2                               1                 141                 135   \n",
       "3                               0                 137                 134   \n",
       "4                               0                 137                 136   \n",
       "\n",
       "   fhr_histogram_median  fhr_histogram_variance  fhr_histogram_tendency  \\\n",
       "0                   121                      73                       1   \n",
       "1                   140                      12                       0   \n",
       "2                   138                      13                       0   \n",
       "3                   137                      13                       1   \n",
       "4                   138                      11                       1   \n",
       "\n",
       "   fetal_health  \n",
       "0             2  \n",
       "1             1  \n",
       "2             1  \n",
       "3             1  \n",
       "4             1  \n",
       "\n",
       "[5 rows x 22 columns]"
      ]
     },
     "execution_count": 3,
     "metadata": {},
     "output_type": "execute_result"
    }
   ],
   "source": [
    "data.head()"
   ]
  },
  {
   "cell_type": "code",
   "execution_count": 4,
   "id": "9682a13e",
   "metadata": {},
   "outputs": [
    {
     "data": {
      "text/html": [
       "<div>\n",
       "<style scoped>\n",
       "    .dataframe tbody tr th:only-of-type {\n",
       "        vertical-align: middle;\n",
       "    }\n",
       "\n",
       "    .dataframe tbody tr th {\n",
       "        vertical-align: top;\n",
       "    }\n",
       "\n",
       "    .dataframe thead th {\n",
       "        text-align: right;\n",
       "    }\n",
       "</style>\n",
       "<table border=\"1\" class=\"dataframe\">\n",
       "  <thead>\n",
       "    <tr style=\"text-align: right;\">\n",
       "      <th></th>\n",
       "      <th>fhr_baseline value</th>\n",
       "      <th>accelerations</th>\n",
       "      <th>fetal_movement</th>\n",
       "      <th>uterine_contractions</th>\n",
       "      <th>light_decelerations</th>\n",
       "      <th>severe_decelerations</th>\n",
       "      <th>prolongued_decelerations</th>\n",
       "      <th>abnormal_short_term_variability</th>\n",
       "      <th>mean_value_of_short_term_variability</th>\n",
       "      <th>percentage_of_time_with_abnormal_long_term_variability</th>\n",
       "      <th>...</th>\n",
       "      <th>fhr_histogram_min</th>\n",
       "      <th>fhr_histogram_max</th>\n",
       "      <th>fhr_histogram_number_of_peaks</th>\n",
       "      <th>fhr_histogram_number_of_zeroes</th>\n",
       "      <th>fhr_histogram_mode</th>\n",
       "      <th>fhr_histogram_mean</th>\n",
       "      <th>fhr_histogram_median</th>\n",
       "      <th>fhr_histogram_variance</th>\n",
       "      <th>fhr_histogram_tendency</th>\n",
       "      <th>fetal_health</th>\n",
       "    </tr>\n",
       "  </thead>\n",
       "  <tbody>\n",
       "    <tr>\n",
       "      <th>count</th>\n",
       "      <td>2126.000000</td>\n",
       "      <td>2126.000000</td>\n",
       "      <td>2126.000000</td>\n",
       "      <td>2126.000000</td>\n",
       "      <td>2126.000000</td>\n",
       "      <td>2126.000000</td>\n",
       "      <td>2126.000000</td>\n",
       "      <td>2126.000000</td>\n",
       "      <td>2126.000000</td>\n",
       "      <td>2126.00000</td>\n",
       "      <td>...</td>\n",
       "      <td>2126.000000</td>\n",
       "      <td>2126.000000</td>\n",
       "      <td>2126.000000</td>\n",
       "      <td>2126.000000</td>\n",
       "      <td>2126.000000</td>\n",
       "      <td>2126.000000</td>\n",
       "      <td>2126.000000</td>\n",
       "      <td>2126.000000</td>\n",
       "      <td>2126.000000</td>\n",
       "      <td>2126.000000</td>\n",
       "    </tr>\n",
       "    <tr>\n",
       "      <th>mean</th>\n",
       "      <td>133.303857</td>\n",
       "      <td>0.003178</td>\n",
       "      <td>0.009481</td>\n",
       "      <td>0.004366</td>\n",
       "      <td>0.001889</td>\n",
       "      <td>0.000003</td>\n",
       "      <td>0.000159</td>\n",
       "      <td>46.990122</td>\n",
       "      <td>1.332785</td>\n",
       "      <td>9.84666</td>\n",
       "      <td>...</td>\n",
       "      <td>93.579492</td>\n",
       "      <td>164.025400</td>\n",
       "      <td>4.068203</td>\n",
       "      <td>0.323612</td>\n",
       "      <td>137.452023</td>\n",
       "      <td>134.610536</td>\n",
       "      <td>138.090310</td>\n",
       "      <td>18.808090</td>\n",
       "      <td>0.320320</td>\n",
       "      <td>1.304327</td>\n",
       "    </tr>\n",
       "    <tr>\n",
       "      <th>std</th>\n",
       "      <td>9.840844</td>\n",
       "      <td>0.003866</td>\n",
       "      <td>0.046666</td>\n",
       "      <td>0.002946</td>\n",
       "      <td>0.002960</td>\n",
       "      <td>0.000057</td>\n",
       "      <td>0.000590</td>\n",
       "      <td>17.192814</td>\n",
       "      <td>0.883241</td>\n",
       "      <td>18.39688</td>\n",
       "      <td>...</td>\n",
       "      <td>29.560212</td>\n",
       "      <td>17.944183</td>\n",
       "      <td>2.949386</td>\n",
       "      <td>0.706059</td>\n",
       "      <td>16.381289</td>\n",
       "      <td>15.593596</td>\n",
       "      <td>14.466589</td>\n",
       "      <td>28.977636</td>\n",
       "      <td>0.610829</td>\n",
       "      <td>0.614377</td>\n",
       "    </tr>\n",
       "    <tr>\n",
       "      <th>min</th>\n",
       "      <td>106.000000</td>\n",
       "      <td>0.000000</td>\n",
       "      <td>0.000000</td>\n",
       "      <td>0.000000</td>\n",
       "      <td>0.000000</td>\n",
       "      <td>0.000000</td>\n",
       "      <td>0.000000</td>\n",
       "      <td>12.000000</td>\n",
       "      <td>0.200000</td>\n",
       "      <td>0.00000</td>\n",
       "      <td>...</td>\n",
       "      <td>50.000000</td>\n",
       "      <td>122.000000</td>\n",
       "      <td>0.000000</td>\n",
       "      <td>0.000000</td>\n",
       "      <td>60.000000</td>\n",
       "      <td>73.000000</td>\n",
       "      <td>77.000000</td>\n",
       "      <td>0.000000</td>\n",
       "      <td>-1.000000</td>\n",
       "      <td>1.000000</td>\n",
       "    </tr>\n",
       "    <tr>\n",
       "      <th>25%</th>\n",
       "      <td>126.000000</td>\n",
       "      <td>0.000000</td>\n",
       "      <td>0.000000</td>\n",
       "      <td>0.002000</td>\n",
       "      <td>0.000000</td>\n",
       "      <td>0.000000</td>\n",
       "      <td>0.000000</td>\n",
       "      <td>32.000000</td>\n",
       "      <td>0.700000</td>\n",
       "      <td>0.00000</td>\n",
       "      <td>...</td>\n",
       "      <td>67.000000</td>\n",
       "      <td>152.000000</td>\n",
       "      <td>2.000000</td>\n",
       "      <td>0.000000</td>\n",
       "      <td>129.000000</td>\n",
       "      <td>125.000000</td>\n",
       "      <td>129.000000</td>\n",
       "      <td>2.000000</td>\n",
       "      <td>0.000000</td>\n",
       "      <td>1.000000</td>\n",
       "    </tr>\n",
       "    <tr>\n",
       "      <th>50%</th>\n",
       "      <td>133.000000</td>\n",
       "      <td>0.002000</td>\n",
       "      <td>0.000000</td>\n",
       "      <td>0.004000</td>\n",
       "      <td>0.000000</td>\n",
       "      <td>0.000000</td>\n",
       "      <td>0.000000</td>\n",
       "      <td>49.000000</td>\n",
       "      <td>1.200000</td>\n",
       "      <td>0.00000</td>\n",
       "      <td>...</td>\n",
       "      <td>93.000000</td>\n",
       "      <td>162.000000</td>\n",
       "      <td>3.000000</td>\n",
       "      <td>0.000000</td>\n",
       "      <td>139.000000</td>\n",
       "      <td>136.000000</td>\n",
       "      <td>139.000000</td>\n",
       "      <td>7.000000</td>\n",
       "      <td>0.000000</td>\n",
       "      <td>1.000000</td>\n",
       "    </tr>\n",
       "    <tr>\n",
       "      <th>75%</th>\n",
       "      <td>140.000000</td>\n",
       "      <td>0.006000</td>\n",
       "      <td>0.003000</td>\n",
       "      <td>0.007000</td>\n",
       "      <td>0.003000</td>\n",
       "      <td>0.000000</td>\n",
       "      <td>0.000000</td>\n",
       "      <td>61.000000</td>\n",
       "      <td>1.700000</td>\n",
       "      <td>11.00000</td>\n",
       "      <td>...</td>\n",
       "      <td>120.000000</td>\n",
       "      <td>174.000000</td>\n",
       "      <td>6.000000</td>\n",
       "      <td>0.000000</td>\n",
       "      <td>148.000000</td>\n",
       "      <td>145.000000</td>\n",
       "      <td>148.000000</td>\n",
       "      <td>24.000000</td>\n",
       "      <td>1.000000</td>\n",
       "      <td>1.000000</td>\n",
       "    </tr>\n",
       "    <tr>\n",
       "      <th>max</th>\n",
       "      <td>160.000000</td>\n",
       "      <td>0.019000</td>\n",
       "      <td>0.481000</td>\n",
       "      <td>0.015000</td>\n",
       "      <td>0.015000</td>\n",
       "      <td>0.001000</td>\n",
       "      <td>0.005000</td>\n",
       "      <td>87.000000</td>\n",
       "      <td>7.000000</td>\n",
       "      <td>91.00000</td>\n",
       "      <td>...</td>\n",
       "      <td>159.000000</td>\n",
       "      <td>238.000000</td>\n",
       "      <td>18.000000</td>\n",
       "      <td>10.000000</td>\n",
       "      <td>187.000000</td>\n",
       "      <td>182.000000</td>\n",
       "      <td>186.000000</td>\n",
       "      <td>269.000000</td>\n",
       "      <td>1.000000</td>\n",
       "      <td>3.000000</td>\n",
       "    </tr>\n",
       "  </tbody>\n",
       "</table>\n",
       "<p>8 rows × 22 columns</p>\n",
       "</div>"
      ],
      "text/plain": [
       "       fhr_baseline value  accelerations  fetal_movement  \\\n",
       "count         2126.000000    2126.000000     2126.000000   \n",
       "mean           133.303857       0.003178        0.009481   \n",
       "std              9.840844       0.003866        0.046666   \n",
       "min            106.000000       0.000000        0.000000   \n",
       "25%            126.000000       0.000000        0.000000   \n",
       "50%            133.000000       0.002000        0.000000   \n",
       "75%            140.000000       0.006000        0.003000   \n",
       "max            160.000000       0.019000        0.481000   \n",
       "\n",
       "       uterine_contractions  light_decelerations  severe_decelerations  \\\n",
       "count           2126.000000          2126.000000           2126.000000   \n",
       "mean               0.004366             0.001889              0.000003   \n",
       "std                0.002946             0.002960              0.000057   \n",
       "min                0.000000             0.000000              0.000000   \n",
       "25%                0.002000             0.000000              0.000000   \n",
       "50%                0.004000             0.000000              0.000000   \n",
       "75%                0.007000             0.003000              0.000000   \n",
       "max                0.015000             0.015000              0.001000   \n",
       "\n",
       "       prolongued_decelerations  abnormal_short_term_variability  \\\n",
       "count               2126.000000                      2126.000000   \n",
       "mean                   0.000159                        46.990122   \n",
       "std                    0.000590                        17.192814   \n",
       "min                    0.000000                        12.000000   \n",
       "25%                    0.000000                        32.000000   \n",
       "50%                    0.000000                        49.000000   \n",
       "75%                    0.000000                        61.000000   \n",
       "max                    0.005000                        87.000000   \n",
       "\n",
       "       mean_value_of_short_term_variability  \\\n",
       "count                           2126.000000   \n",
       "mean                               1.332785   \n",
       "std                                0.883241   \n",
       "min                                0.200000   \n",
       "25%                                0.700000   \n",
       "50%                                1.200000   \n",
       "75%                                1.700000   \n",
       "max                                7.000000   \n",
       "\n",
       "       percentage_of_time_with_abnormal_long_term_variability  ...  \\\n",
       "count                                         2126.00000       ...   \n",
       "mean                                             9.84666       ...   \n",
       "std                                             18.39688       ...   \n",
       "min                                              0.00000       ...   \n",
       "25%                                              0.00000       ...   \n",
       "50%                                              0.00000       ...   \n",
       "75%                                             11.00000       ...   \n",
       "max                                             91.00000       ...   \n",
       "\n",
       "       fhr_histogram_min  fhr_histogram_max  fhr_histogram_number_of_peaks  \\\n",
       "count        2126.000000        2126.000000                    2126.000000   \n",
       "mean           93.579492         164.025400                       4.068203   \n",
       "std            29.560212          17.944183                       2.949386   \n",
       "min            50.000000         122.000000                       0.000000   \n",
       "25%            67.000000         152.000000                       2.000000   \n",
       "50%            93.000000         162.000000                       3.000000   \n",
       "75%           120.000000         174.000000                       6.000000   \n",
       "max           159.000000         238.000000                      18.000000   \n",
       "\n",
       "       fhr_histogram_number_of_zeroes  fhr_histogram_mode  fhr_histogram_mean  \\\n",
       "count                     2126.000000         2126.000000         2126.000000   \n",
       "mean                         0.323612          137.452023          134.610536   \n",
       "std                          0.706059           16.381289           15.593596   \n",
       "min                          0.000000           60.000000           73.000000   \n",
       "25%                          0.000000          129.000000          125.000000   \n",
       "50%                          0.000000          139.000000          136.000000   \n",
       "75%                          0.000000          148.000000          145.000000   \n",
       "max                         10.000000          187.000000          182.000000   \n",
       "\n",
       "       fhr_histogram_median  fhr_histogram_variance  fhr_histogram_tendency  \\\n",
       "count           2126.000000             2126.000000             2126.000000   \n",
       "mean             138.090310               18.808090                0.320320   \n",
       "std               14.466589               28.977636                0.610829   \n",
       "min               77.000000                0.000000               -1.000000   \n",
       "25%              129.000000                2.000000                0.000000   \n",
       "50%              139.000000                7.000000                0.000000   \n",
       "75%              148.000000               24.000000                1.000000   \n",
       "max              186.000000              269.000000                1.000000   \n",
       "\n",
       "       fetal_health  \n",
       "count   2126.000000  \n",
       "mean       1.304327  \n",
       "std        0.614377  \n",
       "min        1.000000  \n",
       "25%        1.000000  \n",
       "50%        1.000000  \n",
       "75%        1.000000  \n",
       "max        3.000000  \n",
       "\n",
       "[8 rows x 22 columns]"
      ]
     },
     "execution_count": 4,
     "metadata": {},
     "output_type": "execute_result"
    }
   ],
   "source": [
    "data.describe()"
   ]
  },
  {
   "cell_type": "code",
   "execution_count": 5,
   "id": "5cf04cdc",
   "metadata": {
    "scrolled": true
   },
   "outputs": [
    {
     "data": {
      "text/plain": [
       "Index(['fhr_baseline value', 'accelerations', 'fetal_movement',\n",
       "       'uterine_contractions', 'light_decelerations', 'severe_decelerations',\n",
       "       'prolongued_decelerations', 'abnormal_short_term_variability',\n",
       "       'mean_value_of_short_term_variability',\n",
       "       'percentage_of_time_with_abnormal_long_term_variability',\n",
       "       'mean_value_of_long_term_variability', 'fhr_histogram_width',\n",
       "       'fhr_histogram_min', 'fhr_histogram_max',\n",
       "       'fhr_histogram_number_of_peaks', 'fhr_histogram_number_of_zeroes',\n",
       "       'fhr_histogram_mode', 'fhr_histogram_mean', 'fhr_histogram_median',\n",
       "       'fhr_histogram_variance', 'fhr_histogram_tendency', 'fetal_health'],\n",
       "      dtype='object')"
      ]
     },
     "execution_count": 5,
     "metadata": {},
     "output_type": "execute_result"
    }
   ],
   "source": [
    "#to look at the features in the dataset\n",
    "data.columns"
   ]
  },
  {
   "cell_type": "code",
   "execution_count": 6,
   "id": "58ed57da",
   "metadata": {},
   "outputs": [
    {
     "data": {
      "text/plain": [
       "1    1655\n",
       "2     295\n",
       "3     176\n",
       "Name: fetal_health, dtype: int64"
      ]
     },
     "execution_count": 6,
     "metadata": {},
     "output_type": "execute_result"
    }
   ],
   "source": [
    "#to get the number of observations in the different classes\n",
    "data['fetal_health'].value_counts()"
   ]
  },
  {
   "cell_type": "markdown",
   "id": "1f8fca79",
   "metadata": {},
   "source": [
    "### Classification using Gaussian Naive Bayes and K-Nearest Neighbours models, without dimensionality reduction using LDA"
   ]
  },
  {
   "cell_type": "markdown",
   "id": "bb760d85",
   "metadata": {},
   "source": [
    "#### Separation of training and test data"
   ]
  },
  {
   "cell_type": "code",
   "execution_count": 7,
   "id": "99308169",
   "metadata": {},
   "outputs": [],
   "source": [
    "#separating the features and the target variable\n",
    "features=['fhr_baseline value', 'accelerations', 'fetal_movement',\n",
    "       'uterine_contractions', 'light_decelerations', 'severe_decelerations',\n",
    "       'prolongued_decelerations', 'abnormal_short_term_variability',\n",
    "       'mean_value_of_short_term_variability',\n",
    "       'percentage_of_time_with_abnormal_long_term_variability',\n",
    "       'mean_value_of_long_term_variability', 'fhr_histogram_width',\n",
    "       'fhr_histogram_min', 'fhr_histogram_max',\n",
    "       'fhr_histogram_number_of_peaks', 'fhr_histogram_number_of_zeroes',\n",
    "       'fhr_histogram_mode', 'fhr_histogram_mean', 'fhr_histogram_median',\n",
    "       'fhr_histogram_variance', 'fhr_histogram_tendency']\n",
    "X=data[features]\n",
    "y=data['fetal_health']"
   ]
  },
  {
   "cell_type": "code",
   "execution_count": 8,
   "id": "8be44575",
   "metadata": {},
   "outputs": [],
   "source": [
    "#separating the training and testing data\n",
    "X_train, X_test, y_train, y_test = train_test_split(X, y, random_state=0)"
   ]
  },
  {
   "cell_type": "markdown",
   "id": "7268f824",
   "metadata": {},
   "source": [
    "#### Classification using Gaussian Naive Bayes model"
   ]
  },
  {
   "cell_type": "code",
   "execution_count": 9,
   "id": "cf2308be",
   "metadata": {},
   "outputs": [],
   "source": [
    "#fitting the model training data\n",
    "gnb = GaussianNB().fit(X_train, y_train)"
   ]
  },
  {
   "cell_type": "code",
   "execution_count": 10,
   "id": "a3274c20",
   "metadata": {},
   "outputs": [],
   "source": [
    "#making predictions\n",
    "y_gnb_pred = gnb.predict(X_test)"
   ]
  },
  {
   "cell_type": "markdown",
   "id": "81c787c6",
   "metadata": {},
   "source": [
    "#### Using performance metrics to evaluate performance"
   ]
  },
  {
   "cell_type": "code",
   "execution_count": 11,
   "id": "c0f8eefa",
   "metadata": {
    "scrolled": true
   },
   "outputs": [
    {
     "data": {
      "text/plain": [
       "array([[330,  61,  19],\n",
       "       [ 10,  59,   3],\n",
       "       [  2,  14,  34]], dtype=int64)"
      ]
     },
     "execution_count": 11,
     "metadata": {},
     "output_type": "execute_result"
    }
   ],
   "source": [
    "#confusion matrix for test data\n",
    "metrics.confusion_matrix(y_test, y_gnb_pred)"
   ]
  },
  {
   "cell_type": "code",
   "execution_count": 12,
   "id": "927191cd",
   "metadata": {
    "scrolled": false
   },
   "outputs": [
    {
     "data": {
      "text/plain": [
       "<sklearn.metrics._plot.confusion_matrix.ConfusionMatrixDisplay at 0x19bb047f608>"
      ]
     },
     "execution_count": 12,
     "metadata": {},
     "output_type": "execute_result"
    },
    {
     "data": {
      "image/png": "[encoded data removed]",
      "text/plain": [
       "<Figure size 432x288 with 2 Axes>"
      ]
     },
     "metadata": {
      "needs_background": "light"
     },
     "output_type": "display_data"
    }
   ],
   "source": [
    "#plotting confusion matrix as a heatmap\n",
    "metrics.plot_confusion_matrix(gnb, X_test, y_test, normalize='true', display_labels=['1-Normal','2-Suspect','3-Pathological'])"
   ]
  },
  {
   "cell_type": "code",
   "execution_count": 13,
   "id": "17ca5785",
   "metadata": {},
   "outputs": [
    {
     "name": "stdout",
     "output_type": "stream",
     "text": [
      "Gaussian Naive Bayes model accuracy(in %): 79.51127819548873\n"
     ]
    }
   ],
   "source": [
    "#calculating accuracy score (accuracy = (tp + tn) / (p + n))\n",
    "print(\"Gaussian Naive Bayes model accuracy(in %):\", metrics.accuracy_score(y_test, y_gnb_pred)*100)"
   ]
  },
  {
   "cell_type": "code",
   "execution_count": 14,
   "id": "9dedfe9c",
   "metadata": {},
   "outputs": [
    {
     "name": "stdout",
     "output_type": "stream",
     "text": [
      "Gaussian Naive Bayes model precision (micro, in %): 79.51127819548873\n",
      "Gaussian Naive Bayes model precision (macro, in %): 67.0784548435766\n",
      "Gaussian Naive Bayes model precision (weighted, in %): 86.02869745905555\n"
     ]
    }
   ],
   "source": [
    "#calculating precision score (precision = tp / (tp + fp))\n",
    "print(\"Gaussian Naive Bayes model precision (micro, in %):\", metrics.precision_score(y_test, y_gnb_pred, average='micro')*100)\n",
    "print(\"Gaussian Naive Bayes model precision (macro, in %):\", metrics.precision_score(y_test, y_gnb_pred, average='macro')*100)\n",
    "print(\"Gaussian Naive Bayes model precision (weighted, in %):\", metrics.precision_score(y_test, y_gnb_pred, average='weighted')*100)"
   ]
  },
  {
   "cell_type": "code",
   "execution_count": 15,
   "id": "c8bb53a7",
   "metadata": {},
   "outputs": [
    {
     "name": "stdout",
     "output_type": "stream",
     "text": [
      "Gaussian Naive Bayes model recall (micro, in %): 79.51127819548873\n",
      "Gaussian Naive Bayes model recall (macro, in %): 76.8107497741644\n",
      "Gaussian Naive Bayes model recall (weighted, in %): 79.51127819548873\n"
     ]
    }
   ],
   "source": [
    "#calculating recall score (recall = tp / (tp + fn))\n",
    "print(\"Gaussian Naive Bayes model recall (micro, in %):\", metrics.recall_score(y_test, y_gnb_pred, average='micro')*100)\n",
    "print(\"Gaussian Naive Bayes model recall (macro, in %):\", metrics.recall_score(y_test, y_gnb_pred, average='macro')*100)\n",
    "print(\"Gaussian Naive Bayes model recall (weighted, in %):\", metrics.recall_score(y_test, y_gnb_pred, average='weighted')*100)"
   ]
  },
  {
   "cell_type": "code",
   "execution_count": 16,
   "id": "70c00048",
   "metadata": {},
   "outputs": [
    {
     "name": "stdout",
     "output_type": "stream",
     "text": [
      "Gaussian Naive Bayes model f1 score (micro, in %): 79.51127819548873\n",
      "Gaussian Naive Bayes model f1 score (macro, in %): 69.7328180803644\n",
      "Gaussian Naive Bayes model f1 score (weighted, in %): 81.42079242041918\n"
     ]
    }
   ],
   "source": [
    "#calculating f1 score (f1 score = 2 tp / (2 tp + fp + fn))\n",
    "print(\"Gaussian Naive Bayes model f1 score (micro, in %):\", metrics.f1_score(y_test, y_gnb_pred, average='micro')*100)\n",
    "print(\"Gaussian Naive Bayes model f1 score (macro, in %):\", metrics.f1_score(y_test, y_gnb_pred, average='macro')*100)\n",
    "print(\"Gaussian Naive Bayes model f1 score (weighted, in %):\", metrics.f1_score(y_test, y_gnb_pred, average='weighted')*100)"
   ]
  },
  {
   "cell_type": "markdown",
   "id": "092b2005",
   "metadata": {},
   "source": [
    "#### Classification using K-Nearest Neighbours model"
   ]
  },
  {
   "cell_type": "code",
   "execution_count": 17,
   "id": "8a2e0065",
   "metadata": {},
   "outputs": [],
   "source": [
    "#using knn using no. of nearest neighbours = 20\n",
    "knn = KNeighborsClassifier(n_neighbors = 20).fit(X_train, y_train)"
   ]
  },
  {
   "cell_type": "code",
   "execution_count": 18,
   "id": "50d31a6f",
   "metadata": {
    "scrolled": true
   },
   "outputs": [],
   "source": [
    "#making predictions\n",
    "y_knn_pred = knn.predict(X_test)"
   ]
  },
  {
   "cell_type": "markdown",
   "id": "6ec0e07a",
   "metadata": {},
   "source": [
    "#### Using performance metrics to evaluate performance"
   ]
  },
  {
   "cell_type": "code",
   "execution_count": 19,
   "id": "8b43b944",
   "metadata": {},
   "outputs": [
    {
     "data": {
      "text/plain": [
       "array([[393,  14,   3],\n",
       "       [ 34,  38,   0],\n",
       "       [ 16,   5,  29]], dtype=int64)"
      ]
     },
     "execution_count": 19,
     "metadata": {},
     "output_type": "execute_result"
    }
   ],
   "source": [
    "#confusion matrix for test data\n",
    "metrics.confusion_matrix(y_test, y_knn_pred)"
   ]
  },
  {
   "cell_type": "code",
   "execution_count": 20,
   "id": "55ae336b",
   "metadata": {},
   "outputs": [
    {
     "data": {
      "text/plain": [
       "<sklearn.metrics._plot.confusion_matrix.ConfusionMatrixDisplay at 0x19bb10ec288>"
      ]
     },
     "execution_count": 20,
     "metadata": {},
     "output_type": "execute_result"
    },
    {
     "data": {
      "image/png": "[encoded data removed]",
      "text/plain": [
       "<Figure size 432x288 with 2 Axes>"
      ]
     },
     "metadata": {
      "needs_background": "light"
     },
     "output_type": "display_data"
    }
   ],
   "source": [
    "#plotting confusion matrix as a heatmap\n",
    "metrics.plot_confusion_matrix(knn, X_test, y_test, normalize='true', display_labels=['1-Normal','2-Suspect','3-Pathological'])"
   ]
  },
  {
   "cell_type": "code",
   "execution_count": 21,
   "id": "87453e30",
   "metadata": {},
   "outputs": [
    {
     "name": "stdout",
     "output_type": "stream",
     "text": [
      "KNN model accuracy(in %): 86.46616541353383\n"
     ]
    }
   ],
   "source": [
    "#calculating accuracy score (accuracy = (tp + tn) / (p + n))\n",
    "accuracy = knn.score(X_test, y_test)\n",
    "print(\"KNN model accuracy(in %):\", accuracy*100)"
   ]
  },
  {
   "cell_type": "code",
   "execution_count": 22,
   "id": "5a4e017e",
   "metadata": {},
   "outputs": [
    {
     "name": "stdout",
     "output_type": "stream",
     "text": [
      "KNN model precision (micro, in %): 86.46616541353383\n",
      "KNN model precision (macro, in %): 82.00166165036367\n",
      "KNN model precision (weighted, in %): 85.90923025679322\n"
     ]
    }
   ],
   "source": [
    "#calculating precision score (precision = tp / (tp + fp))\n",
    "print(\"KNN model precision (micro, in %):\", metrics.precision_score(y_test, y_knn_pred, average = 'micro')*100)\n",
    "print(\"KNN model precision (macro, in %):\", metrics.precision_score(y_test, y_knn_pred, average = 'macro')*100)\n",
    "print(\"KNN model precision (weighted, in %):\", metrics.precision_score(y_test, y_knn_pred, average = 'weighted')*100)"
   ]
  },
  {
   "cell_type": "code",
   "execution_count": 23,
   "id": "aacb6508",
   "metadata": {},
   "outputs": [
    {
     "name": "stdout",
     "output_type": "stream",
     "text": [
      "KNN model recall (micro, in %): 86.46616541353383\n",
      "KNN model recall (macro, in %): 68.87714543812105\n",
      "KNN model recall (weighted, in %): 86.46616541353383\n"
     ]
    }
   ],
   "source": [
    "#calculating recall score (recall = tp / (tp + fn))\n",
    "print(\"KNN model recall (micro, in %):\", metrics.recall_score(y_test, y_knn_pred, average = 'micro')*100)\n",
    "print(\"KNN model recall (macro, in %):\", metrics.recall_score(y_test, y_knn_pred, average = 'macro')*100)\n",
    "print(\"KNN model recall (weighted, in %):\", metrics.recall_score(y_test, y_knn_pred, average = 'weighted')*100)"
   ]
  },
  {
   "cell_type": "code",
   "execution_count": 24,
   "id": "0fd731d9",
   "metadata": {},
   "outputs": [
    {
     "name": "stdout",
     "output_type": "stream",
     "text": [
      "KNN model f1 score (micro, in %): 86.46616541353383\n",
      "KNN model f1 score (macro, in %): 73.93060176137354\n",
      "KNN model f1 score (weighted, in %): 85.63542713866443\n"
     ]
    }
   ],
   "source": [
    "#calculating f1 score (f1 score = 2 tp / (2 tp + fp + fn))\n",
    "print(\"KNN model f1 score (micro, in %):\", metrics.f1_score(y_test, y_knn_pred, average = 'micro')*100)\n",
    "print(\"KNN model f1 score (macro, in %):\", metrics.f1_score(y_test, y_knn_pred, average = 'macro')*100)\n",
    "print(\"KNN model f1 score (weighted, in %):\", metrics.f1_score(y_test, y_knn_pred, average = 'weighted')*100)"
   ]
  },
  {
   "cell_type": "markdown",
   "id": "c35cd53c",
   "metadata": {},
   "source": [
    "### Classification using Gaussian Naive Bayes and K-Nearest Neighbours models after performing dimensionality reduction using LDA"
   ]
  },
  {
   "cell_type": "markdown",
   "id": "e354025c",
   "metadata": {},
   "source": [
    "#### Performing linear discriminant analysis using 1 component"
   ]
  },
  {
   "cell_type": "code",
   "execution_count": 25,
   "id": "6dde83b9",
   "metadata": {},
   "outputs": [],
   "source": [
    "#performing lda on the dataset\n",
    "#no. of components = 1\n",
    "lda1 = LinearDiscriminantAnalysis(n_components=1)\n",
    "X_lda1 = pd.DataFrame(data = lda1.fit_transform(X,y), columns = ['LD1'])"
   ]
  },
  {
   "cell_type": "code",
   "execution_count": 26,
   "id": "0aec9855",
   "metadata": {},
   "outputs": [
    {
     "data": {
      "text/html": [
       "<div>\n",
       "<style scoped>\n",
       "    .dataframe tbody tr th:only-of-type {\n",
       "        vertical-align: middle;\n",
       "    }\n",
       "\n",
       "    .dataframe tbody tr th {\n",
       "        vertical-align: top;\n",
       "    }\n",
       "\n",
       "    .dataframe thead th {\n",
       "        text-align: right;\n",
       "    }\n",
       "</style>\n",
       "<table border=\"1\" class=\"dataframe\">\n",
       "  <thead>\n",
       "    <tr style=\"text-align: right;\">\n",
       "      <th></th>\n",
       "      <th>LD1</th>\n",
       "    </tr>\n",
       "  </thead>\n",
       "  <tbody>\n",
       "    <tr>\n",
       "      <th>0</th>\n",
       "      <td>1.974607</td>\n",
       "    </tr>\n",
       "    <tr>\n",
       "      <th>1</th>\n",
       "      <td>-1.681079</td>\n",
       "    </tr>\n",
       "    <tr>\n",
       "      <th>2</th>\n",
       "      <td>-1.673487</td>\n",
       "    </tr>\n",
       "    <tr>\n",
       "      <th>3</th>\n",
       "      <td>-1.654167</td>\n",
       "    </tr>\n",
       "    <tr>\n",
       "      <th>4</th>\n",
       "      <td>-1.764345</td>\n",
       "    </tr>\n",
       "  </tbody>\n",
       "</table>\n",
       "</div>"
      ],
      "text/plain": [
       "        LD1\n",
       "0  1.974607\n",
       "1 -1.681079\n",
       "2 -1.673487\n",
       "3 -1.654167\n",
       "4 -1.764345"
      ]
     },
     "execution_count": 26,
     "metadata": {},
     "output_type": "execute_result"
    }
   ],
   "source": [
    "#new axis created\n",
    "X_lda1.head()"
   ]
  },
  {
   "cell_type": "code",
   "execution_count": 27,
   "id": "2912d6b0",
   "metadata": {
    "scrolled": false
   },
   "outputs": [
    {
     "data": {
      "text/html": [
       "<div>\n",
       "<style scoped>\n",
       "    .dataframe tbody tr th:only-of-type {\n",
       "        vertical-align: middle;\n",
       "    }\n",
       "\n",
       "    .dataframe tbody tr th {\n",
       "        vertical-align: top;\n",
       "    }\n",
       "\n",
       "    .dataframe thead th {\n",
       "        text-align: right;\n",
       "    }\n",
       "</style>\n",
       "<table border=\"1\" class=\"dataframe\">\n",
       "  <thead>\n",
       "    <tr style=\"text-align: right;\">\n",
       "      <th></th>\n",
       "      <th>LD1</th>\n",
       "      <th>fetal_health</th>\n",
       "    </tr>\n",
       "  </thead>\n",
       "  <tbody>\n",
       "    <tr>\n",
       "      <th>0</th>\n",
       "      <td>1.974607</td>\n",
       "      <td>2</td>\n",
       "    </tr>\n",
       "    <tr>\n",
       "      <th>1</th>\n",
       "      <td>-1.681079</td>\n",
       "      <td>1</td>\n",
       "    </tr>\n",
       "    <tr>\n",
       "      <th>2</th>\n",
       "      <td>-1.673487</td>\n",
       "      <td>1</td>\n",
       "    </tr>\n",
       "    <tr>\n",
       "      <th>3</th>\n",
       "      <td>-1.654167</td>\n",
       "      <td>1</td>\n",
       "    </tr>\n",
       "    <tr>\n",
       "      <th>4</th>\n",
       "      <td>-1.764345</td>\n",
       "      <td>1</td>\n",
       "    </tr>\n",
       "  </tbody>\n",
       "</table>\n",
       "</div>"
      ],
      "text/plain": [
       "        LD1  fetal_health\n",
       "0  1.974607             2\n",
       "1 -1.681079             1\n",
       "2 -1.673487             1\n",
       "3 -1.654167             1\n",
       "4 -1.764345             1"
      ]
     },
     "execution_count": 27,
     "metadata": {},
     "output_type": "execute_result"
    }
   ],
   "source": [
    "#concatenating the target variable column with the linear discriminant column\n",
    "X_lda1 = pd.concat([X_lda1, data['fetal_health']], axis = 1)\n",
    "X_lda1.head()"
   ]
  },
  {
   "cell_type": "markdown",
   "id": "4be9f896",
   "metadata": {},
   "source": [
    "#### Plotting the new subspace with its data points after performing LDA"
   ]
  },
  {
   "cell_type": "code",
   "execution_count": 28,
   "id": "f9e65a0f",
   "metadata": {},
   "outputs": [],
   "source": [
    "#creating an array of zeroes for y-axis values in the scatter plot\n",
    "LD_y = []\n",
    "for i in range(0, X_lda1.shape[0]):\n",
    "    LD_y.append(0)"
   ]
  },
  {
   "cell_type": "code",
   "execution_count": 29,
   "id": "99e901a4",
   "metadata": {},
   "outputs": [
    {
     "data": {
      "text/plain": [
       "<AxesSubplot:xlabel='LD1'>"
      ]
     },
     "execution_count": 29,
     "metadata": {},
     "output_type": "execute_result"
    },
    {
     "data": {
      "image/png": "[encoded data removed]",
      "text/plain": [
       "<Figure size 432x288 with 1 Axes>"
      ]
     },
     "metadata": {
      "needs_background": "light"
     },
     "output_type": "display_data"
    }
   ],
   "source": [
    "#plotting the points\n",
    "sns.scatterplot(data = X_lda1, x = 'LD1', y = LD_y, hue = 'fetal_health', palette = 'bright', legend='full')"
   ]
  },
  {
   "cell_type": "markdown",
   "id": "38ec4c54",
   "metadata": {},
   "source": [
    "#### Separation of training and test data"
   ]
  },
  {
   "cell_type": "code",
   "execution_count": 30,
   "id": "e27f2769",
   "metadata": {
    "scrolled": true
   },
   "outputs": [],
   "source": [
    "#separating the features and target variable\n",
    "x_cols = []\n",
    "for item in list(X_lda1.columns):\n",
    "    if(item != 'fetal_health'):\n",
    "        x_cols.append(item)\n",
    "X1 = X_lda1[x_cols]\n",
    "y1 = X_lda1['fetal_health']"
   ]
  },
  {
   "cell_type": "code",
   "execution_count": 31,
   "id": "3b443c33",
   "metadata": {},
   "outputs": [],
   "source": [
    "#splitting into training and test data\n",
    "X_train, X_test, y_train, y_test = train_test_split(X1, y1, random_state = 0)"
   ]
  },
  {
   "cell_type": "markdown",
   "id": "36cbfbe6",
   "metadata": {},
   "source": [
    "#### Classification using Gaussian Naive Bayes model"
   ]
  },
  {
   "cell_type": "code",
   "execution_count": 32,
   "id": "ffd78a36",
   "metadata": {},
   "outputs": [],
   "source": [
    "#fitting the model on training data\n",
    "gnb = GaussianNB().fit(X_train, y_train)"
   ]
  },
  {
   "cell_type": "code",
   "execution_count": 33,
   "id": "c7cb6db6",
   "metadata": {},
   "outputs": [],
   "source": [
    "#making predictions\n",
    "y_gnb_pred = gnb.predict(X_test)"
   ]
  },
  {
   "cell_type": "markdown",
   "id": "d06fd67a",
   "metadata": {},
   "source": [
    "#### Using performance metrics to evaluate performance"
   ]
  },
  {
   "cell_type": "code",
   "execution_count": 34,
   "id": "1314abc6",
   "metadata": {
    "scrolled": true
   },
   "outputs": [
    {
     "data": {
      "text/plain": [
       "array([[382,  27,   1],\n",
       "       [ 40,  29,   3],\n",
       "       [  5,   9,  36]], dtype=int64)"
      ]
     },
     "execution_count": 34,
     "metadata": {},
     "output_type": "execute_result"
    }
   ],
   "source": [
    "#confusion matrix for test data\n",
    "metrics.confusion_matrix(y_test, y_gnb_pred)"
   ]
  },
  {
   "cell_type": "code",
   "execution_count": 35,
   "id": "4a8a7017",
   "metadata": {
    "scrolled": false
   },
   "outputs": [
    {
     "data": {
      "text/plain": [
       "<sklearn.metrics._plot.confusion_matrix.ConfusionMatrixDisplay at 0x19bb17b3d88>"
      ]
     },
     "execution_count": 35,
     "metadata": {},
     "output_type": "execute_result"
    },
    {
     "data": {
      "image/png": "[encoded data removed]",
      "text/plain": [
       "<Figure size 432x288 with 2 Axes>"
      ]
     },
     "metadata": {
      "needs_background": "light"
     },
     "output_type": "display_data"
    }
   ],
   "source": [
    "#plotting confusion matrix as a heatmap\n",
    "metrics.plot_confusion_matrix(gnb, X_test, y_test, normalize='true', display_labels=['1-Normal','2-Suspect','3-Pathological'])"
   ]
  },
  {
   "cell_type": "code",
   "execution_count": 36,
   "id": "c424ebef",
   "metadata": {
    "scrolled": true
   },
   "outputs": [
    {
     "name": "stdout",
     "output_type": "stream",
     "text": [
      "Gaussian Naive Bayes model accuracy(in %): 84.02255639097744\n"
     ]
    }
   ],
   "source": [
    "#calculating accuracy score (accuracy = (tp + tn) / (p + n))\n",
    "print(\"Gaussian Naive Bayes model accuracy(in %):\", metrics.accuracy_score(y_test, y_gnb_pred)*100)"
   ]
  },
  {
   "cell_type": "code",
   "execution_count": 37,
   "id": "e5257dda",
   "metadata": {},
   "outputs": [
    {
     "name": "stdout",
     "output_type": "stream",
     "text": [
      "Gaussian Naive Bayes model precision (micro, in %): 84.02255639097744\n",
      "Gaussian Naive Bayes model precision (macro, in %): 74.69224764306732\n",
      "Gaussian Naive Bayes model precision (weighted, in %): 83.44260263340753\n"
     ]
    }
   ],
   "source": [
    "#calculating precision score (precision = tp / (tp + fp))\n",
    "print(\"Gaussian Naive Bayes model precision (micro, in %):\", metrics.precision_score(y_test, y_gnb_pred, average = 'micro')*100)\n",
    "print(\"Gaussian Naive Bayes model precision (macro, in %):\", metrics.precision_score(y_test, y_gnb_pred, average = 'macro')*100)\n",
    "print(\"Gaussian Naive Bayes model precision (weighted, in %):\", metrics.precision_score(y_test, y_gnb_pred, average = 'weighted')*100)"
   ]
  },
  {
   "cell_type": "code",
   "execution_count": 38,
   "id": "4974ba84",
   "metadata": {},
   "outputs": [
    {
     "name": "stdout",
     "output_type": "stream",
     "text": [
      "Gaussian Naive Bayes model recall (micro, in %): 84.02255639097744\n",
      "Gaussian Naive Bayes model recall (macro, in %): 68.48283649503162\n",
      "Gaussian Naive Bayes model recall (weighted, in %): 84.02255639097744\n"
     ]
    }
   ],
   "source": [
    "#calculating recall score (recall = tp / (tp + fn))\n",
    "print(\"Gaussian Naive Bayes model recall (micro, in %):\", metrics.recall_score(y_test, y_gnb_pred, average = 'micro')*100)\n",
    "print(\"Gaussian Naive Bayes model recall (macro, in %):\", metrics.recall_score(y_test, y_gnb_pred, average = 'macro')*100)\n",
    "print(\"Gaussian Naive Bayes model recall (weighted, in %):\", metrics.recall_score(y_test, y_gnb_pred, average = 'weighted')*100)"
   ]
  },
  {
   "cell_type": "code",
   "execution_count": 39,
   "id": "8a808a8a",
   "metadata": {},
   "outputs": [
    {
     "name": "stdout",
     "output_type": "stream",
     "text": [
      "Gaussian Naive Bayes model f1 score (micro, in %): 84.02255639097744\n",
      "Gaussian Naive Bayes model f1 score (macro, in %): 71.20471385756684\n",
      "Gaussian Naive Bayes model f1 score (weighted, in %): 83.59456577765478\n"
     ]
    }
   ],
   "source": [
    "#calculating f1 score (f1 score = 2 tp / (2 tp + fp + fn))\n",
    "print(\"Gaussian Naive Bayes model f1 score (micro, in %):\", metrics.f1_score(y_test, y_gnb_pred, average = 'micro')*100)\n",
    "print(\"Gaussian Naive Bayes model f1 score (macro, in %):\", metrics.f1_score(y_test, y_gnb_pred, average = 'macro')*100)\n",
    "print(\"Gaussian Naive Bayes model f1 score (weighted, in %):\", metrics.f1_score(y_test, y_gnb_pred, average = 'weighted')*100)"
   ]
  },
  {
   "cell_type": "markdown",
   "id": "7d8e4487",
   "metadata": {},
   "source": [
    "#### Classification using K-Nearest Neighbours model"
   ]
  },
  {
   "cell_type": "code",
   "execution_count": 40,
   "id": "49f3edec",
   "metadata": {
    "scrolled": true
   },
   "outputs": [],
   "source": [
    "#using knn using no. of nearest neighbours = 20\n",
    "knn = KNeighborsClassifier(n_neighbors = 20).fit(X_train, y_train)"
   ]
  },
  {
   "cell_type": "code",
   "execution_count": 41,
   "id": "a555a1f6",
   "metadata": {
    "scrolled": false
   },
   "outputs": [],
   "source": [
    "#making predictions\n",
    "y_knn_pred = knn.predict(X_test)"
   ]
  },
  {
   "cell_type": "markdown",
   "id": "0e09cd43",
   "metadata": {},
   "source": [
    "#### Using performance metrics to evaluate performance"
   ]
  },
  {
   "cell_type": "code",
   "execution_count": 42,
   "id": "45c9deee",
   "metadata": {},
   "outputs": [
    {
     "data": {
      "text/plain": [
       "array([[389,  20,   1],\n",
       "       [ 41,  30,   1],\n",
       "       [  7,  11,  32]], dtype=int64)"
      ]
     },
     "execution_count": 42,
     "metadata": {},
     "output_type": "execute_result"
    }
   ],
   "source": [
    "#confusion matrix for test data\n",
    "metrics.confusion_matrix(y_test, y_knn_pred)"
   ]
  },
  {
   "cell_type": "code",
   "execution_count": 43,
   "id": "f4cf3286",
   "metadata": {
    "scrolled": false
   },
   "outputs": [
    {
     "data": {
      "text/plain": [
       "<sklearn.metrics._plot.confusion_matrix.ConfusionMatrixDisplay at 0x19bb17863c8>"
      ]
     },
     "execution_count": 43,
     "metadata": {},
     "output_type": "execute_result"
    },
    {
     "data": {
      "image/png": "[encoded data removed]",
      "text/plain": [
       "<Figure size 432x288 with 2 Axes>"
      ]
     },
     "metadata": {
      "needs_background": "light"
     },
     "output_type": "display_data"
    }
   ],
   "source": [
    "#plotting confusion matrix as a heatmap\n",
    "metrics.plot_confusion_matrix(knn, X_test, y_test, normalize='true', display_labels=['1-Normal','2-Suspect','3-Pathological'])"
   ]
  },
  {
   "cell_type": "code",
   "execution_count": 44,
   "id": "66c2ccfc",
   "metadata": {},
   "outputs": [
    {
     "name": "stdout",
     "output_type": "stream",
     "text": [
      "KNN model accuracy(in %): 84.77443609022556\n"
     ]
    }
   ],
   "source": [
    "#calculating accuracy score (accuracy = (tp + tn) / (p + n))\n",
    "accuracy = knn.score(X_test, y_test)\n",
    "print(\"KNN model accuracy(in %):\", accuracy*100)"
   ]
  },
  {
   "cell_type": "code",
   "execution_count": 45,
   "id": "0cace339",
   "metadata": {},
   "outputs": [
    {
     "name": "stdout",
     "output_type": "stream",
     "text": [
      "KNN model precision (micro, in %): 84.77443609022556\n",
      "KNN model precision (macro, in %): 77.4379977447707\n",
      "KNN model precision (weighted, in %): 84.10419824289357\n"
     ]
    }
   ],
   "source": [
    "#calculating precision score (precision = tp / (tp + fp))\n",
    "print(\"KNN model precision (micro, in %):\", metrics.precision_score(y_test, y_knn_pred, average = 'micro')*100)\n",
    "print(\"KNN model precision (macro, in %):\", metrics.precision_score(y_test, y_knn_pred, average = 'macro')*100)\n",
    "print(\"KNN model precision (weighted, in %):\", metrics.precision_score(y_test, y_knn_pred, average = 'weighted')*100)"
   ]
  },
  {
   "cell_type": "code",
   "execution_count": 46,
   "id": "a20625c5",
   "metadata": {},
   "outputs": [
    {
     "name": "stdout",
     "output_type": "stream",
     "text": [
      "KNN model recall (micro, in %): 84.77443609022556\n",
      "KNN model recall (macro, in %): 66.84823848238483\n",
      "KNN model recall (weighted, in %): 84.77443609022556\n"
     ]
    }
   ],
   "source": [
    "#calculating recall score (recall = tp / (tp + fn))\n",
    "print(\"KNN model recall (micro, in %):\", metrics.recall_score(y_test, y_knn_pred, average = 'micro')*100)\n",
    "print(\"KNN model recall (macro, in %):\", metrics.recall_score(y_test, y_knn_pred, average = 'macro')*100)\n",
    "print(\"KNN model recall (weighted, in %):\", metrics.recall_score(y_test, y_knn_pred, average = 'weighted')*100)"
   ]
  },
  {
   "cell_type": "code",
   "execution_count": 47,
   "id": "109b2f68",
   "metadata": {},
   "outputs": [
    {
     "name": "stdout",
     "output_type": "stream",
     "text": [
      "KNN model f1 score (micro, in %): 84.77443609022556\n",
      "KNN model f1 score (macro, in %): 71.05228636329116\n",
      "KNN model f1 score (weighted, in %): 84.05567762692633\n"
     ]
    }
   ],
   "source": [
    "#calculating f1 score (f1 score = 2 tp / (2 tp + fp + fn))\n",
    "print(\"KNN model f1 score (micro, in %):\", metrics.f1_score(y_test, y_knn_pred, average = 'micro')*100)\n",
    "print(\"KNN model f1 score (macro, in %):\", metrics.f1_score(y_test, y_knn_pred, average = 'macro')*100)\n",
    "print(\"KNN model f1 score (weighted, in %):\", metrics.f1_score(y_test, y_knn_pred, average = 'weighted')*100)"
   ]
  },
  {
   "cell_type": "markdown",
   "id": "65177bac",
   "metadata": {},
   "source": [
    "#### Performing linear discriminant analysis using 2 components"
   ]
  },
  {
   "cell_type": "code",
   "execution_count": 48,
   "id": "8481873e",
   "metadata": {},
   "outputs": [],
   "source": [
    "#performing lda on the dataset\n",
    "#no. of components = 2\n",
    "lda2 = LinearDiscriminantAnalysis(n_components=2)\n",
    "X_lda2 = pd.DataFrame(data = lda2.fit_transform(X, y), columns = ['LD1', 'LD2'])"
   ]
  },
  {
   "cell_type": "code",
   "execution_count": 49,
   "id": "f35be5b2",
   "metadata": {},
   "outputs": [
    {
     "data": {
      "text/html": [
       "<div>\n",
       "<style scoped>\n",
       "    .dataframe tbody tr th:only-of-type {\n",
       "        vertical-align: middle;\n",
       "    }\n",
       "\n",
       "    .dataframe tbody tr th {\n",
       "        vertical-align: top;\n",
       "    }\n",
       "\n",
       "    .dataframe thead th {\n",
       "        text-align: right;\n",
       "    }\n",
       "</style>\n",
       "<table border=\"1\" class=\"dataframe\">\n",
       "  <thead>\n",
       "    <tr style=\"text-align: right;\">\n",
       "      <th></th>\n",
       "      <th>LD1</th>\n",
       "      <th>LD2</th>\n",
       "    </tr>\n",
       "  </thead>\n",
       "  <tbody>\n",
       "    <tr>\n",
       "      <th>0</th>\n",
       "      <td>1.974607</td>\n",
       "      <td>-1.336074</td>\n",
       "    </tr>\n",
       "    <tr>\n",
       "      <th>1</th>\n",
       "      <td>-1.681079</td>\n",
       "      <td>0.505350</td>\n",
       "    </tr>\n",
       "    <tr>\n",
       "      <th>2</th>\n",
       "      <td>-1.673487</td>\n",
       "      <td>0.275472</td>\n",
       "    </tr>\n",
       "    <tr>\n",
       "      <th>3</th>\n",
       "      <td>-1.654167</td>\n",
       "      <td>0.431901</td>\n",
       "    </tr>\n",
       "    <tr>\n",
       "      <th>4</th>\n",
       "      <td>-1.764345</td>\n",
       "      <td>1.148967</td>\n",
       "    </tr>\n",
       "  </tbody>\n",
       "</table>\n",
       "</div>"
      ],
      "text/plain": [
       "        LD1       LD2\n",
       "0  1.974607 -1.336074\n",
       "1 -1.681079  0.505350\n",
       "2 -1.673487  0.275472\n",
       "3 -1.654167  0.431901\n",
       "4 -1.764345  1.148967"
      ]
     },
     "execution_count": 49,
     "metadata": {},
     "output_type": "execute_result"
    }
   ],
   "source": [
    "#new axes created\n",
    "X_lda2.head()"
   ]
  },
  {
   "cell_type": "code",
   "execution_count": 50,
   "id": "80a5d88d",
   "metadata": {},
   "outputs": [
    {
     "data": {
      "text/html": [
       "<div>\n",
       "<style scoped>\n",
       "    .dataframe tbody tr th:only-of-type {\n",
       "        vertical-align: middle;\n",
       "    }\n",
       "\n",
       "    .dataframe tbody tr th {\n",
       "        vertical-align: top;\n",
       "    }\n",
       "\n",
       "    .dataframe thead th {\n",
       "        text-align: right;\n",
       "    }\n",
       "</style>\n",
       "<table border=\"1\" class=\"dataframe\">\n",
       "  <thead>\n",
       "    <tr style=\"text-align: right;\">\n",
       "      <th></th>\n",
       "      <th>LD1</th>\n",
       "      <th>LD2</th>\n",
       "      <th>fetal_health</th>\n",
       "    </tr>\n",
       "  </thead>\n",
       "  <tbody>\n",
       "    <tr>\n",
       "      <th>0</th>\n",
       "      <td>1.974607</td>\n",
       "      <td>-1.336074</td>\n",
       "      <td>2</td>\n",
       "    </tr>\n",
       "    <tr>\n",
       "      <th>1</th>\n",
       "      <td>-1.681079</td>\n",
       "      <td>0.505350</td>\n",
       "      <td>1</td>\n",
       "    </tr>\n",
       "    <tr>\n",
       "      <th>2</th>\n",
       "      <td>-1.673487</td>\n",
       "      <td>0.275472</td>\n",
       "      <td>1</td>\n",
       "    </tr>\n",
       "    <tr>\n",
       "      <th>3</th>\n",
       "      <td>-1.654167</td>\n",
       "      <td>0.431901</td>\n",
       "      <td>1</td>\n",
       "    </tr>\n",
       "    <tr>\n",
       "      <th>4</th>\n",
       "      <td>-1.764345</td>\n",
       "      <td>1.148967</td>\n",
       "      <td>1</td>\n",
       "    </tr>\n",
       "  </tbody>\n",
       "</table>\n",
       "</div>"
      ],
      "text/plain": [
       "        LD1       LD2  fetal_health\n",
       "0  1.974607 -1.336074             2\n",
       "1 -1.681079  0.505350             1\n",
       "2 -1.673487  0.275472             1\n",
       "3 -1.654167  0.431901             1\n",
       "4 -1.764345  1.148967             1"
      ]
     },
     "execution_count": 50,
     "metadata": {},
     "output_type": "execute_result"
    }
   ],
   "source": [
    "#concatenating the target variable column with the linear discriminant columns\n",
    "X_lda2 = pd.concat([X_lda2, data['fetal_health']], axis = 1)\n",
    "X_lda2.head()"
   ]
  },
  {
   "cell_type": "code",
   "execution_count": 51,
   "id": "49fd8c8e",
   "metadata": {},
   "outputs": [
    {
     "data": {
      "text/plain": [
       "<AxesSubplot:xlabel='LD1', ylabel='LD2'>"
      ]
     },
     "execution_count": 51,
     "metadata": {},
     "output_type": "execute_result"
    },
    {
     "data": {
      "image/png": "[encoded data removed]",
      "text/plain": [
       "<Figure size 432x288 with 1 Axes>"
      ]
     },
     "metadata": {
      "needs_background": "light"
     },
     "output_type": "display_data"
    }
   ],
   "source": [
    "#plotting the points\n",
    "sns.scatterplot(data = X_lda2, x = 'LD1', y = 'LD2', hue = 'fetal_health', palette = 'bright', legend='full')"
   ]
  },
  {
   "cell_type": "markdown",
   "id": "4dbfcbd1",
   "metadata": {},
   "source": [
    "#### Separation of training and test data"
   ]
  },
  {
   "cell_type": "code",
   "execution_count": 52,
   "id": "f2644d48",
   "metadata": {},
   "outputs": [],
   "source": [
    "#separating the features and target variable\n",
    "x_cols = []\n",
    "for item in list(X_lda2.columns):\n",
    "    if(item != 'fetal_health'):\n",
    "        x_cols.append(item)\n",
    "X2 = X_lda2[x_cols]\n",
    "y2 = X_lda2['fetal_health']"
   ]
  },
  {
   "cell_type": "code",
   "execution_count": 53,
   "id": "d03767a0",
   "metadata": {},
   "outputs": [],
   "source": [
    "#splitting into training and test data\n",
    "X_train, X_test, y_train, y_test = train_test_split(X2, y2, random_state = 0)"
   ]
  },
  {
   "cell_type": "markdown",
   "id": "e6fa90f3",
   "metadata": {},
   "source": [
    "#### Classification using Gaussian Naive Bayes model"
   ]
  },
  {
   "cell_type": "code",
   "execution_count": 54,
   "id": "a3d8b092",
   "metadata": {},
   "outputs": [],
   "source": [
    "#fitting the model on training data\n",
    "gnb = GaussianNB().fit(X_train, y_train)"
   ]
  },
  {
   "cell_type": "code",
   "execution_count": 55,
   "id": "df4a7a85",
   "metadata": {},
   "outputs": [],
   "source": [
    "#making predictions\n",
    "y_gnb_pred = gnb.predict(X_test)"
   ]
  },
  {
   "cell_type": "markdown",
   "id": "f68ccf91",
   "metadata": {},
   "source": [
    "#### Using performance metrics to evaluate performance"
   ]
  },
  {
   "cell_type": "code",
   "execution_count": 56,
   "id": "29e51e4c",
   "metadata": {
    "scrolled": false
   },
   "outputs": [
    {
     "data": {
      "text/plain": [
       "array([[376,  28,   6],\n",
       "       [ 22,  49,   1],\n",
       "       [  5,  13,  32]], dtype=int64)"
      ]
     },
     "execution_count": 56,
     "metadata": {},
     "output_type": "execute_result"
    }
   ],
   "source": [
    "#confusion matrix for test data\n",
    "metrics.confusion_matrix(y_test, y_gnb_pred)"
   ]
  },
  {
   "cell_type": "code",
   "execution_count": 57,
   "id": "516c5355",
   "metadata": {
    "scrolled": true
   },
   "outputs": [
    {
     "data": {
      "text/plain": [
       "<sklearn.metrics._plot.confusion_matrix.ConfusionMatrixDisplay at 0x19bb49a0348>"
      ]
     },
     "execution_count": 57,
     "metadata": {},
     "output_type": "execute_result"
    },
    {
     "data": {
      "image/png": "[encoded data removed]",
      "text/plain": [
       "<Figure size 432x288 with 2 Axes>"
      ]
     },
     "metadata": {
      "needs_background": "light"
     },
     "output_type": "display_data"
    }
   ],
   "source": [
    "#plotting confusion matrix as a heatmap\n",
    "metrics.plot_confusion_matrix(gnb, X_test, y_test, normalize='true', display_labels=['1-Normal','2-Suspect','3-Pathological'])"
   ]
  },
  {
   "cell_type": "code",
   "execution_count": 58,
   "id": "f7c1e6f5",
   "metadata": {},
   "outputs": [
    {
     "name": "stdout",
     "output_type": "stream",
     "text": [
      "Gaussian Naive Bayes model accuracy(in %): 85.90225563909775\n"
     ]
    }
   ],
   "source": [
    "#calculating accuracy score (accuracy = (tp + tn) / (p + n))\n",
    "print(\"Gaussian Naive Bayes model accuracy(in %):\", metrics.accuracy_score(y_test, y_gnb_pred)*100)"
   ]
  },
  {
   "cell_type": "code",
   "execution_count": 59,
   "id": "1602220e",
   "metadata": {
    "scrolled": true
   },
   "outputs": [
    {
     "name": "stdout",
     "output_type": "stream",
     "text": [
      "Gaussian Naive Bayes model model precision (micro, in %): 85.90225563909775\n",
      "Gaussian Naive Bayes model model precision (macro, in %): 76.59865821156143\n",
      "Gaussian Naive Bayes model model precision (weighted, in %): 86.98433428484363\n"
     ]
    }
   ],
   "source": [
    "#calculating precision score (precision = tp / (tp + fp))\n",
    "print(\"Gaussian Naive Bayes model model precision (micro, in %):\", metrics.precision_score(y_test, y_gnb_pred, average = 'micro')*100)\n",
    "print(\"Gaussian Naive Bayes model model precision (macro, in %):\", metrics.precision_score(y_test, y_gnb_pred, average = 'macro')*100)\n",
    "print(\"Gaussian Naive Bayes model model precision (weighted, in %):\", metrics.precision_score(y_test, y_gnb_pred, average = 'weighted')*100)"
   ]
  },
  {
   "cell_type": "code",
   "execution_count": 60,
   "id": "d5921cae",
   "metadata": {},
   "outputs": [
    {
     "name": "stdout",
     "output_type": "stream",
     "text": [
      "Gaussian Naive Bayes model model recall (micro, in %): 85.90225563909775\n",
      "Gaussian Naive Bayes model model recall (macro, in %): 74.58762420957544\n",
      "Gaussian Naive Bayes model model recall (weighted, in %): 85.90225563909775\n"
     ]
    }
   ],
   "source": [
    "#calculating recall score (recall = tp / (tp + fn))\n",
    "print(\"Gaussian Naive Bayes model model recall (micro, in %):\", metrics.recall_score(y_test, y_gnb_pred, average = 'micro')*100)\n",
    "print(\"Gaussian Naive Bayes model model recall (macro, in %):\", metrics.recall_score(y_test, y_gnb_pred, average = 'macro')*100)\n",
    "print(\"Gaussian Naive Bayes model model recall (weighted, in %):\", metrics.recall_score(y_test, y_gnb_pred, average = 'weighted')*100)"
   ]
  },
  {
   "cell_type": "code",
   "execution_count": 61,
   "id": "5452ef0e",
   "metadata": {},
   "outputs": [
    {
     "name": "stdout",
     "output_type": "stream",
     "text": [
      "Gaussian Naive Bayes model model f1 score (micro, in %): 85.90225563909775\n",
      "Gaussian Naive Bayes model model f1 score (macro, in %): 74.96695482976469\n",
      "Gaussian Naive Bayes model model f1 score (weighted, in %): 86.23082784008544\n"
     ]
    }
   ],
   "source": [
    "#calculating f1 score (f1 score = 2 tp / (2 tp + fp + fn))\n",
    "print(\"Gaussian Naive Bayes model model f1 score (micro, in %):\", metrics.f1_score(y_test, y_gnb_pred, average = 'micro')*100)\n",
    "print(\"Gaussian Naive Bayes model model f1 score (macro, in %):\", metrics.f1_score(y_test, y_gnb_pred, average = 'macro')*100)\n",
    "print(\"Gaussian Naive Bayes model model f1 score (weighted, in %):\", metrics.f1_score(y_test, y_gnb_pred, average = 'weighted')*100)"
   ]
  },
  {
   "cell_type": "markdown",
   "id": "51d297b9",
   "metadata": {},
   "source": [
    "#### Classification using K-Nearest Neighbours model"
   ]
  },
  {
   "cell_type": "code",
   "execution_count": 62,
   "id": "063f0001",
   "metadata": {},
   "outputs": [],
   "source": [
    "#using knn using no. of nearest neighbours = 20\n",
    "knn = KNeighborsClassifier(n_neighbors = 20).fit(X_train, y_train)"
   ]
  },
  {
   "cell_type": "code",
   "execution_count": 63,
   "id": "45c41f90",
   "metadata": {
    "scrolled": false
   },
   "outputs": [],
   "source": [
    "#making predictions\n",
    "y_knn_pred = knn.predict(X_test)"
   ]
  },
  {
   "cell_type": "markdown",
   "id": "d62ebfe2",
   "metadata": {},
   "source": [
    "#### Using performance metrics to evaluate performance"
   ]
  },
  {
   "cell_type": "code",
   "execution_count": 64,
   "id": "b1495aa2",
   "metadata": {},
   "outputs": [
    {
     "data": {
      "text/plain": [
       "array([[393,  15,   2],\n",
       "       [ 19,  53,   0],\n",
       "       [  7,   7,  36]], dtype=int64)"
      ]
     },
     "execution_count": 64,
     "metadata": {},
     "output_type": "execute_result"
    }
   ],
   "source": [
    "#confusion matrix for test data\n",
    "metrics.confusion_matrix(y_test, y_knn_pred)"
   ]
  },
  {
   "cell_type": "code",
   "execution_count": 65,
   "id": "bb0417bd",
   "metadata": {},
   "outputs": [
    {
     "data": {
      "text/plain": [
       "<sklearn.metrics._plot.confusion_matrix.ConfusionMatrixDisplay at 0x19bb4a83a08>"
      ]
     },
     "execution_count": 65,
     "metadata": {},
     "output_type": "execute_result"
    },
    {
     "data": {
      "image/png": "[encoded data removed]",
      "text/plain": [
       "<Figure size 432x288 with 2 Axes>"
      ]
     },
     "metadata": {
      "needs_background": "light"
     },
     "output_type": "display_data"
    }
   ],
   "source": [
    "#plotting confusion matrix as a heatmap\n",
    "metrics.plot_confusion_matrix(knn, X_test, y_test, normalize='true', display_labels=['1-Normal','2-Suspect','3-Pathological'])"
   ]
  },
  {
   "cell_type": "code",
   "execution_count": 66,
   "id": "9f0dc006",
   "metadata": {},
   "outputs": [
    {
     "name": "stdout",
     "output_type": "stream",
     "text": [
      "KNN model accuracy(in %): 90.6015037593985\n"
     ]
    }
   ],
   "source": [
    "#calculating accuracy score (accuracy = (tp + tn) / (p + n))\n",
    "accuracy = knn.score(X_test, y_test)\n",
    "print(\"KNN model accuracy(in %):\", accuracy*100)"
   ]
  },
  {
   "cell_type": "code",
   "execution_count": 67,
   "id": "1522ca2e",
   "metadata": {
    "scrolled": true
   },
   "outputs": [
    {
     "name": "stdout",
     "output_type": "stream",
     "text": [
      "KNN model precision (micro, in %): 90.6015037593985\n",
      "KNN model precision (macro, in %): 86.39941939175704\n",
      "KNN model precision (weighted, in %): 90.75317548991181\n"
     ]
    }
   ],
   "source": [
    "#calculating precision score (precision = tp / (tp + fp))\n",
    "print(\"KNN model precision (micro, in %):\", metrics.precision_score(y_test, y_knn_pred, average = 'micro')*100)\n",
    "print(\"KNN model precision (macro, in %):\", metrics.precision_score(y_test, y_knn_pred, average = 'macro')*100)\n",
    "print(\"KNN model precision (weighted, in %):\", metrics.precision_score(y_test, y_knn_pred, average = 'weighted')*100)"
   ]
  },
  {
   "cell_type": "code",
   "execution_count": 68,
   "id": "718b7044",
   "metadata": {},
   "outputs": [
    {
     "name": "stdout",
     "output_type": "stream",
     "text": [
      "KNN model recall (micro, in %): 90.6015037593985\n",
      "KNN model recall (macro, in %): 80.48825654923215\n",
      "KNN model recall (weighted, in %): 90.6015037593985\n"
     ]
    }
   ],
   "source": [
    "#calculating recall score (recall = tp / (tp + fn))\n",
    "print(\"KNN model recall (micro, in %):\", metrics.recall_score(y_test, y_knn_pred, average = 'micro')*100)\n",
    "print(\"KNN model recall (macro, in %):\", metrics.recall_score(y_test, y_knn_pred, average = 'macro')*100)\n",
    "print(\"KNN model recall (weighted, in %):\", metrics.recall_score(y_test, y_knn_pred, average = 'weighted')*100)"
   ]
  },
  {
   "cell_type": "code",
   "execution_count": 69,
   "id": "ee2bfac2",
   "metadata": {},
   "outputs": [
    {
     "name": "stdout",
     "output_type": "stream",
     "text": [
      "KNN model f1 score (micro, in %): 90.6015037593985\n",
      "KNN model f1 score (macro, in %): 82.91335103328899\n",
      "KNN model f1 score (weighted, in %): 90.51896090367248\n"
     ]
    }
   ],
   "source": [
    "#calculating f1 score (f1 score = 2 tp / (2 tp + fp + fn))\n",
    "print(\"KNN model f1 score (micro, in %):\", metrics.f1_score(y_test, y_knn_pred, average = 'micro')*100)\n",
    "print(\"KNN model f1 score (macro, in %):\", metrics.f1_score(y_test, y_knn_pred, average = 'macro')*100)\n",
    "print(\"KNN model f1 score (weighted, in %):\", metrics.f1_score(y_test, y_knn_pred, average = 'weighted')*100)"
   ]
  }
 ],
 "metadata": {
  "kernelspec": {
   "display_name": "Python 3 (ipykernel)",
   "language": "python",
   "name": "python3"
  },
  "language_info": {
   "codemirror_mode": {
    "name": "ipython",
    "version": 3
   },
   "file_extension": ".py",
   "mimetype": "text/x-python",
   "name": "python",
   "nbconvert_exporter": "python",
   "pygments_lexer": "ipython3",
   "version": "3.7.13"
  }
 },
 "nbformat": 4,
 "nbformat_minor": 5
}
